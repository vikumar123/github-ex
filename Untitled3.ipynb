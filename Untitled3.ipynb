{
 "cells": [
  {
   "cell_type": "markdown",
   "metadata": {},
   "source": [
    "Introduction/Business problem:\n",
    "\n",
    "I am an ardent movie lover and so are more than half the population of this world. In this project I am going to help people who are planning to make movies and also the ones planning to build theatres in USA. So my report will be able to help:\n",
    "\n",
    "1)\tPeople who wish to make short movies in  USA can have an insight about which genre is the most popular.\n",
    "\n",
    "2)\tPeople who wish to build a theatre will be able oversee which town has the largest number of theatres and hence where to build them\n",
    "\n",
    "3)\tAlso my fellow beginner data scientists \n",
    "\n",
    "So these are the main problems I will be trying to address in my project\n",
    "\n",
    "Data preparation\n",
    "\n",
    "I have taken data mainly from  Wikipedia from the pages\n",
    "\n",
    "1)List of highest grossing movies\n",
    "\n",
    "2)List of highest grossing movies in the super hero, horror, comedy, science fiction and animation genres\n",
    "\n",
    "3)Lastly I have also used the Foursquare API to get data.\n",
    "\n",
    "\n",
    "\n"
   ]
  },
  {
   "cell_type": "code",
   "execution_count": null,
   "metadata": {},
   "outputs": [],
   "source": []
  }
 ],
 "metadata": {
  "kernelspec": {
   "display_name": "Python",
   "language": "python",
   "name": "conda-env-python-py"
  },
  "language_info": {
   "codemirror_mode": {
    "name": "ipython",
    "version": 3
   },
   "file_extension": ".py",
   "mimetype": "text/x-python",
   "name": "python",
   "nbconvert_exporter": "python",
   "pygments_lexer": "ipython3",
   "version": "3.6.10"
  }
 },
 "nbformat": 4,
 "nbformat_minor": 4
}
